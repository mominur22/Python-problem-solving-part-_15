{
 "cells": [
  {
   "cell_type": "markdown",
   "id": "9ec1e39f",
   "metadata": {},
   "source": [
    "# Python problem solving (part _15)"
   ]
  },
  {
   "cell_type": "markdown",
   "id": "f25f1559",
   "metadata": {},
   "source": [
    "# Nested Dictionary Problems:"
   ]
  },
  {
   "cell_type": "markdown",
   "id": "f90ecfda",
   "metadata": {},
   "source": [
    "89. Access Nested Dictionary: Given a nested dictionary containing student details, write a Python program to access and print specific information such as a student’s name, age, and address."
   ]
  },
  {
   "cell_type": "code",
   "execution_count": null,
   "id": "17d129ee",
   "metadata": {},
   "outputs": [],
   "source": [
    "students_details = {\n",
    "    'student1': {\n",
    "        'name': 'Alice',\n",
    "        'age': 20,\n",
    "        'address': '123 Main St, City1'\n",
    "    },\n",
    "    'student2': {\n",
    "        'name': 'Bob',\n",
    "        'age': 22,\n",
    "        'address': '456 Oak St, City2'\n",
    "    },\n",
    "    'student3': {\n",
    "        'name': 'Charlie',\n",
    "        'age': 21,\n",
    "        'address': '789 Pine St, City3'\n",
    "    }\n",
    "}\n",
    "\n",
    "def print_student_details(dictionary, student_key):\n",
    "    if student_key in dictionary:\n",
    "        student = dictionary[student_key]\n",
    "        print(f\"Student Name: {student['name']}\")\n",
    "        print(f\"Student Age: {student['age']}\")\n",
    "        print(f\"Student Address: {student['address']}\")\n",
    "    else:\n",
    "        print(f\"Student with key '{student_key}' not found in the dictionary.\")\n",
    "student_key = input(\"Enter the student key to access details: \")\n",
    "print_student_details(students_details, student_key)\n"
   ]
  },
  {
   "cell_type": "markdown",
   "id": "45c3e54a",
   "metadata": {},
   "source": [
    "# 90. Nested Dictionary Length: Write a Python program to calculate and print the total number of key-value pairs in a nested dictionary."
   ]
  },
  {
   "cell_type": "code",
   "execution_count": null,
   "id": "488fda13",
   "metadata": {},
   "outputs": [],
   "source": [
    "def count_key_value_pairs(dictionary):\n",
    "    total_pairs = 0\n",
    "    for key, value in dictionary.items():\n",
    "        total_pairs += 1\n",
    "        if isinstance(value, dict):\n",
    "            total_pairs += count_key_value_pairs(value)\n",
    "    return total_pairs\n",
    "nested_dict = {\n",
    "    'student1': {\n",
    "        'name': 'Alice',\n",
    "        'age': 20,\n",
    "        'address': '123 Main St, City1'\n",
    "    },\n",
    "    'student2': {\n",
    "        'name': 'Bob',\n",
    "        'age': 22,\n",
    "        'address': '456 Oak St, City2'\n",
    "    },\n",
    "    'student3': {\n",
    "        'name': 'Charlie',\n",
    "        'age': 21,\n",
    "        'address': '789 Pine St, City3'\n",
    "    }\n",
    "}\n",
    "total_pairs = count_key_value_pairs(nested_dict)\n",
    "print(\"Total Number of Key-Value Pairs in the Nested Dictionary:\", total_pairs)\n"
   ]
  },
  {
   "cell_type": "markdown",
   "id": "8f99db0b",
   "metadata": {},
   "source": [
    "# 91. Nested Dictionary Update: Given a nested dictionary of employee details, write a Python program to update an employee’s salary based on their employee ID."
   ]
  },
  {
   "cell_type": "code",
   "execution_count": null,
   "id": "335ffdda",
   "metadata": {},
   "outputs": [],
   "source": [
    "employee_details = {\n",
    "    'employee1': {\n",
    "        'employee_id': 'E001',\n",
    "        'name': 'Alice',\n",
    "        'salary': 50000\n",
    "    },\n",
    "    'employee2': {\n",
    "        'employee_id': 'E002',\n",
    "        'name': 'Bob',\n",
    "        'salary': 60000\n",
    "    },\n",
    "    'employee3': {\n",
    "        'employee_id': 'E003',\n",
    "        'name': 'Charlie',\n",
    "        'salary': 55000\n",
    "    }\n",
    "}\n",
    "def update_salary(dictionary, employee_id, new_salary):\n",
    "    for employee_key, employee_info in dictionary.items():\n",
    "        if employee_info['employee_id'] == employee_id:\n",
    "            employee_info['salary'] = new_salary\n",
    "            print(f\"Salary updated for employee {employee_id} ({employee_info['name']}): ${new_salary}\")\n",
    "            return\n",
    "    print(f\"Employee with ID {employee_id} not found in the dictionary.\")\n",
    "employee_id_to_update = input(\"Enter the employee ID to update salary: \")\n",
    "new_salary_value = float(input(\"Enter the new salary: \"))\n",
    "update_salary(employee_details, employee_id_to_update, new_salary_value)\n",
    "\n",
    "print(\"\\nUpdated Employee Details:\")\n",
    "for employee_key, employee_info in employee_details.items():\n",
    "    print(f\"{employee_info['name']} (ID: {employee_info['employee_id']}): ${employee_info['salary']}\")\n"
   ]
  },
  {
   "cell_type": "markdown",
   "id": "d26c165a",
   "metadata": {},
   "source": [
    "# 92. Nested Dictionary Sorting: Given a nested dictionary containing product details (product name, price, and quantity), write a Python program to sort the products based on their prices in ascending order."
   ]
  },
  {
   "cell_type": "code",
   "execution_count": null,
   "id": "cd07bc07",
   "metadata": {},
   "outputs": [],
   "source": [
    "products_details = {\n",
    "    'product1': {\n",
    "        'name': 'Laptop',\n",
    "        'price': 1200.00,\n",
    "        'quantity': 5\n",
    "    },\n",
    "    'product2': {\n",
    "        'name': 'Smartphone',\n",
    "        'price': 500.00,\n",
    "        'quantity': 10\n",
    "    },\n",
    "    'product3': {\n",
    "        'name': 'Tablet',\n",
    "        'price': 300.00,\n",
    "        'quantity': 8\n",
    "    }\n",
    "}\n",
    "def sort_products_by_price(dictionary):\n",
    "    sorted_products = sorted(dictionary.items(), key=lambda item: item[1]['price'])\n",
    "    return dict(sorted_products)\n",
    "sorted_products_dict = sort_products_by_price(products_details)\n",
    "print(\"Sorted Products Based on Prices (Ascending Order):\")\n",
    "for product_key, product_info in sorted_products_dict.items():\n",
    "    print(f\"{product_info['name']} - Price: ${product_info['price']} - Quantity: {product_info['quantity']}\")\n"
   ]
  },
  {
   "cell_type": "markdown",
   "id": "6ba9e642",
   "metadata": {},
   "source": [
    "# 93. Nested Dictionary Key Search: Write a Python program that takes a key as input and searches for it in a nested dictionary. If found, print the corresponding value, otherwise, print “Key Not Found.”"
   ]
  },
  {
   "cell_type": "code",
   "execution_count": null,
   "id": "a3add64b",
   "metadata": {},
   "outputs": [],
   "source": [
    "\n",
    "nested_dict = {\n",
    "    'level1_1': {\n",
    "        'level2_1': 'value1',\n",
    "        'level2_2': 'value2'\n",
    "    },\n",
    "    'level1_2': {\n",
    "        'level2_3': 'value3',\n",
    "        'level2_4': 'value4'\n",
    "    }\n",
    "}\n",
    "\n",
    "def search_key(dictionary, search_key):\n",
    "    for key, value in dictionary.items():\n",
    "        if key == search_key:\n",
    "            return value\n",
    "        elif isinstance(value, dict):\n",
    "            nested_result = search_key(value, search_key)\n",
    "            if nested_result is not None:\n",
    "                return nested_result\n",
    "    return None\n",
    "search_key_input = input(\"Enter the key to search in the nested dictionary: \")\n",
    "\n",
    "# Call the function to search for the key\n",
    "result_value = search_key(nested_dict, search_key_input)\n",
    "if result_value is not None:\n",
    "    print(f\"The corresponding value for key '{search_key_input}' is: {result_value}\")\n",
    "else:\n",
    "    print(f\"Key '{search_key_input}' not found in the nested dictionary.\")"
   ]
  },
  {
   "cell_type": "code",
   "execution_count": null,
   "id": "2f964f6f",
   "metadata": {},
   "outputs": [],
   "source": []
  }
 ],
 "metadata": {
  "kernelspec": {
   "display_name": "Python 3 (ipykernel)",
   "language": "python",
   "name": "python3"
  },
  "language_info": {
   "codemirror_mode": {
    "name": "ipython",
    "version": 3
   },
   "file_extension": ".py",
   "mimetype": "text/x-python",
   "name": "python",
   "nbconvert_exporter": "python",
   "pygments_lexer": "ipython3",
   "version": "3.11.5"
  }
 },
 "nbformat": 4,
 "nbformat_minor": 5
}
